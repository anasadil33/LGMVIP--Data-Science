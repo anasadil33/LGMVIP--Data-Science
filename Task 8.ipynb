{
 "cells": [
  {
   "cell_type": "code",
   "execution_count": 2,
   "id": "d27254cc",
   "metadata": {},
   "outputs": [],
   "source": [
    "import numpy as np\n",
    "np.random.seed(42)\n",
    "import tensorflow as tf\n",
    "tf.random.set_seed(42)\n",
    "import warnings as wg\n",
    "wg.filterwarnings(\"ignore\") \n",
    "from tensorflow.keras.models import Sequential, load_model\n",
    "from tensorflow.keras.layers import Dense, Activation\n",
    "from tensorflow.keras.layers import LSTM, Dropout\n",
    "from tensorflow.keras.layers import TimeDistributed\n",
    "from tensorflow.keras.layers import Dense, Activation, Dropout, RepeatVector\n",
    "from tensorflow.keras.optimizers import  RMSprop\n",
    "import matplotlib.pyplot as plt\n",
    "import pickle\n",
    "import heapq"
   ]
  },
  {
   "cell_type": "code",
   "execution_count": 3,
   "id": "e1277c54",
   "metadata": {},
   "outputs": [
    {
     "name": "stdout",
     "output_type": "stream",
     "text": [
      "corpus length: 581888\n"
     ]
    }
   ],
   "source": [
    "text = open('C:/Users/Anas/Downloads/1661-0.txt', encoding=\"utf8\").read().lower()\n",
    "print('corpus length:', len(text))\n"
   ]
  },
  {
   "cell_type": "code",
   "execution_count": 4,
   "id": "820f6617",
   "metadata": {},
   "outputs": [
    {
     "name": "stdout",
     "output_type": "stream",
     "text": [
      "unique chars: 73\n"
     ]
    }
   ],
   "source": [
    "character = sorted(list(set(text)))\n",
    "char_indices = dict((c, i) for i, c in enumerate(character))\n",
    "indices_char = dict((i, c) for i, c in enumerate(character))\n",
    " \n",
    "print(f'unique chars: {len(character)}')"
   ]
  },
  {
   "cell_type": "code",
   "execution_count": 5,
   "id": "6867c6f7",
   "metadata": {},
   "outputs": [
    {
     "name": "stdout",
     "output_type": "stream",
     "text": [
      "num training examples: 193950\n"
     ]
    }
   ],
   "source": [
    "seq_len = 40\n",
    "step = 3\n",
    "sentences = []\n",
    "next_chars = []\n",
    "for i in range(0, len(text) - seq_len, step):\n",
    "    sentences.append(text[i: i + seq_len ])\n",
    "    next_chars.append(text[i + seq_len])\n",
    "print(f'num training examples: {len(sentences)}')"
   ]
  },
  {
   "cell_type": "code",
   "execution_count": 6,
   "id": "4270e0c5",
   "metadata": {},
   "outputs": [
    {
     "data": {
      "text/plain": [
       "'e'"
      ]
     },
     "execution_count": 6,
     "metadata": {},
     "output_type": "execute_result"
    }
   ],
   "source": [
    "X = np.zeros((len(sentences), seq_len, len(character)), dtype=np.bool)\n",
    "y = np.zeros((len(sentences), len(character)), dtype=np.bool)\n",
    "for i, sentence in enumerate(sentences):\n",
    "    for t, char in enumerate(sentence):\n",
    "        X[i, t, char_indices[char]] = 1\n",
    "    y[i, char_indices[next_chars[i]]] = 1\n",
    "\n",
    "sentences[124]\n",
    "next_chars[100]"
   ]
  },
  {
   "cell_type": "code",
   "execution_count": 7,
   "id": "2c4112cc",
   "metadata": {},
   "outputs": [
    {
     "data": {
      "text/plain": [
       "array([False, False, False, False, False, False, False, False, False,\n",
       "       False, False, False, False, False, False, False, False, False,\n",
       "       False, False, False, False, False, False, False, False, False,\n",
       "       False, False, False, False, False, False, False, False, False,\n",
       "       False, False, False, False, False, False, False, False, False,\n",
       "       False, False, False, False, False, False, False, False, False,\n",
       "       False, False, False, False, False, False, False, False, False,\n",
       "       False, False, False, False, False, False, False, False, False,\n",
       "        True])"
      ]
     },
     "execution_count": 7,
     "metadata": {},
     "output_type": "execute_result"
    }
   ],
   "source": [
    "X[0][0]"
   ]
  },
  {
   "cell_type": "code",
   "execution_count": 8,
   "id": "f9b4cbc0",
   "metadata": {},
   "outputs": [
    {
     "data": {
      "text/plain": [
       "array([False, False, False, False, False, False, False, False, False,\n",
       "       False, False, False, False, False, False, False, False, False,\n",
       "       False, False, False, False, False, False, False, False, False,\n",
       "       False, False, False, False, False, False, False, False, False,\n",
       "       False, False, False, False, False, False, False, False, False,\n",
       "       False, False, False, False, False, False,  True, False, False,\n",
       "       False, False, False, False, False, False, False, False, False,\n",
       "       False, False, False, False, False, False, False, False, False,\n",
       "       False])"
      ]
     },
     "execution_count": 8,
     "metadata": {},
     "output_type": "execute_result"
    }
   ],
   "source": [
    "y[0]"
   ]
  },
  {
   "cell_type": "code",
   "execution_count": 9,
   "id": "7872360b",
   "metadata": {},
   "outputs": [
    {
     "data": {
      "text/plain": [
       "(193950, 40, 73)"
      ]
     },
     "execution_count": 9,
     "metadata": {},
     "output_type": "execute_result"
    }
   ],
   "source": [
    "X.shape\n"
   ]
  },
  {
   "cell_type": "code",
   "execution_count": 10,
   "id": "815c2177",
   "metadata": {},
   "outputs": [
    {
     "data": {
      "text/plain": [
       "(193950, 73)"
      ]
     },
     "execution_count": 10,
     "metadata": {},
     "output_type": "execute_result"
    }
   ],
   "source": [
    "y.shape"
   ]
  },
  {
   "cell_type": "code",
   "execution_count": 11,
   "id": "0b1f63b8",
   "metadata": {},
   "outputs": [],
   "source": [
    "model = Sequential()\n",
    "model.add(LSTM(500, input_shape=(seq_len, len(character))))\n",
    "model.add(Dense(len(character)))\n",
    "model.add(Activation('softmax'))"
   ]
  },
  {
   "cell_type": "code",
   "execution_count": 12,
   "id": "4424892c",
   "metadata": {},
   "outputs": [
    {
     "name": "stdout",
     "output_type": "stream",
     "text": [
      "Model: \"sequential\"\n",
      "_________________________________________________________________\n",
      " Layer (type)                Output Shape              Param #   \n",
      "=================================================================\n",
      " lstm (LSTM)                 (None, 500)               1148000   \n",
      "                                                                 \n",
      " dense (Dense)               (None, 73)                36573     \n",
      "                                                                 \n",
      " activation (Activation)     (None, 73)                0         \n",
      "                                                                 \n",
      "=================================================================\n",
      "Total params: 1,184,573\n",
      "Trainable params: 1,184,573\n",
      "Non-trainable params: 0\n",
      "_________________________________________________________________\n"
     ]
    }
   ],
   "source": [
    "model.summary()"
   ]
  },
  {
   "cell_type": "code",
   "execution_count": 13,
   "id": "b2970ab6",
   "metadata": {},
   "outputs": [
    {
     "name": "stdout",
     "output_type": "stream",
     "text": [
      "Epoch 1/5\n",
      "1501/1501 [==============================] - 2331s 2s/step - loss: 96.4125 - accuracy: 0.0659 - val_loss: 119.9206 - val_accuracy: 0.0175\n",
      "Epoch 2/5\n",
      "1501/1501 [==============================] - 10935s 7s/step - loss: 58.7464 - accuracy: 0.0731 - val_loss: 104.2281 - val_accuracy: 0.0577\n",
      "Epoch 3/5\n",
      "1501/1501 [==============================] - 2436s 2s/step - loss: 49.1148 - accuracy: 0.0709 - val_loss: 95.9045 - val_accuracy: 0.0778\n",
      "Epoch 4/5\n",
      "1501/1501 [==============================] - 2313s 2s/step - loss: 48.9776 - accuracy: 0.0716 - val_loss: 115.2114 - val_accuracy: 0.0361\n",
      "Epoch 5/5\n",
      "1501/1501 [==============================] - 2286s 2s/step - loss: 50.4882 - accuracy: 0.0703 - val_loss: 131.7849 - val_accuracy: 0.0418\n"
     ]
    }
   ],
   "source": [
    "optimizer = RMSprop(learning_rate=0.5)\n",
    "model.compile(loss='categorical_crossentropy', optimizer=optimizer, metrics=['accuracy'])\n",
    "history = model.fit(X, y,\n",
    "                    validation_split=0.01, \n",
    "                    batch_size=128,\n",
    "                    epochs=5, \n",
    "                    shuffle=True).history"
   ]
  },
  {
   "cell_type": "code",
   "execution_count": 14,
   "id": "bbf781cd",
   "metadata": {},
   "outputs": [],
   "source": [
    "model.save('nextword.h5')\n",
    "pickle.dump(history, open(\"history.p\", \"wb\"))"
   ]
  },
  {
   "cell_type": "code",
   "execution_count": 15,
   "id": "f0bf8201",
   "metadata": {},
   "outputs": [],
   "source": [
    "model = load_model('nextword.h5')\n",
    "history = pickle.load(open(\"history.p\", \"rb\"))"
   ]
  },
  {
   "cell_type": "code",
   "execution_count": 16,
   "id": "ce113da0",
   "metadata": {},
   "outputs": [
    {
     "name": "stdout",
     "output_type": "stream",
     "text": [
      "6061/6061 [==============================] - 1236s 204ms/step - loss: 64.9417 - accuracy: 0.0322\n",
      "Test Loss 64.94170379638672\n",
      "Test Accuracy 0.0321577712893486\n"
     ]
    }
   ],
   "source": [
    "loss_and_acc=model.evaluate(X,y)\n",
    "print(\"Test Loss\", loss_and_acc[0])\n",
    "print(\"Test Accuracy\", loss_and_acc[1])"
   ]
  },
  {
   "cell_type": "code",
   "execution_count": 17,
   "id": "711bb500",
   "metadata": {},
   "outputs": [
    {
     "data": {
      "image/png": "[encoded data removed]",
      "text/plain": [
       "<Figure size 1440x432 with 2 Axes>"
      ]
     },
     "metadata": {
      "needs_background": "light"
     },
     "output_type": "display_data"
    }
   ],
   "source": [
    "acc = history['accuracy']\n",
    "val_acc = history['val_accuracy']\n",
    "loss = history['loss']\n",
    "val_loss = history['val_loss']\n",
    "epochs = range(len(acc))\n",
    "\n",
    "\n",
    "fig, ax = plt.subplots(nrows=1, ncols=2, figsize=(20, 6))\n",
    "ax[0].plot(epochs, acc, 'y', label='Training accuracy')\n",
    "ax[0].plot(epochs, val_acc, 'g', label='Validation accuracy')\n",
    "ax[0].legend(loc=0)\n",
    "ax[1].plot(epochs, loss, 'y', label='Training loss')\n",
    "ax[1].plot(epochs, val_loss, 'g', label='Validation loss')\n",
    "ax[1].legend(loc=0)\n",
    "\n",
    "plt.suptitle('Training and validation')\n",
    "plt.show()"
   ]
  },
  {
   "cell_type": "code",
   "execution_count": 18,
   "id": "c261f984",
   "metadata": {},
   "outputs": [
    {
     "data": {
      "text/plain": [
       "array([[[0., 0., 0., ..., 0., 0., 0.],\n",
       "        [0., 0., 0., ..., 0., 0., 0.],\n",
       "        [0., 0., 0., ..., 0., 0., 0.],\n",
       "        ...,\n",
       "        [0., 0., 0., ..., 0., 0., 0.],\n",
       "        [0., 0., 0., ..., 0., 0., 0.],\n",
       "        [0., 0., 0., ..., 0., 0., 0.]]])"
      ]
     },
     "execution_count": 18,
     "metadata": {},
     "output_type": "execute_result"
    }
   ],
   "source": [
    "def prepare_input(text):\n",
    "    x = np.zeros((1, seq_len, len(character)))\n",
    "    for t, char in enumerate(text):\n",
    "        x[0, t, char_indices[char]] = 1.\n",
    "        \n",
    "    return x\n",
    "\n",
    "prepare_input(\"This is an example of input of our model\".lower())"
   ]
  },
  {
   "cell_type": "code",
   "execution_count": 19,
   "id": "a43e67d1",
   "metadata": {},
   "outputs": [],
   "source": [
    "def sample(preds, top_n=3):\n",
    "    preds = np.asarray(preds).astype('float64')\n",
    "    preds = np.log(preds)\n",
    "    exp_preds = np.exp(preds)\n",
    "    preds = exp_preds / np.sum(exp_preds)\n",
    "    \n",
    "    return heapq.nlargest(top_n, range(len(preds)), preds.take)"
   ]
  },
  {
   "cell_type": "code",
   "execution_count": 20,
   "id": "15254583",
   "metadata": {},
   "outputs": [],
   "source": [
    "def predict_completion(text):\n",
    "    original_text = text\n",
    "    generated = text\n",
    "    completion = ''\n",
    "    while True:\n",
    "        x = prepare_input(text)\n",
    "        preds = model.predict(x, verbose=0)[0]\n",
    "        next_index = sample(preds, top_n=1)[0]\n",
    "        next_char = indices_char[next_index]\n",
    "        text = text[1:] + next_char\n",
    "        completion += next_char\n",
    "        \n",
    "        if len(original_text + completion) + 2 > len(original_text) and next_char == ' ':\n",
    "            return completion"
   ]
  },
  {
   "cell_type": "code",
   "execution_count": 21,
   "id": "40c594ee",
   "metadata": {},
   "outputs": [],
   "source": [
    "def predict_completions(text, n=3):\n",
    "    x = prepare_input(text)\n",
    "    preds = model.predict(x, verbose=0)[0]\n",
    "    next_indices = sample(preds, n)\n",
    "    return [indices_char[idx] + predict_completion(text[1:] + indices_char[idx]) for idx in next_indices]"
   ]
  },
  {
   "cell_type": "code",
   "execution_count": 22,
   "id": "5c89766a",
   "metadata": {},
   "outputs": [],
   "source": [
    "quotes = [   \n",
    "    \"It is not a lack of  love, but a  lack of friendship that makes unhappy marriages.\",\n",
    "    \"Recurrent neural network (RNN)is a type of artificial neural network which uses sequential data or time series data.\",\n",
    "    \"Machine learning is the science of getting computers to act without being explicitly programmed.\",\n",
    "    \"Deep learning is subset of machine learning,which is essentially a neural network with three or more layers.\",\n",
    "    \"The goal of AI is to  make a  compter like humans to solve complex problems.\",\n",
    "    \"Statistics are defined as numerical data, and is the field of math that deals with the collection, tabulation and interpretation of numerical data.\"\n",
    "    ]"
   ]
  },
  {
   "cell_type": "code",
   "execution_count": 23,
   "id": "d5dc4a55",
   "metadata": {},
   "outputs": [
    {
     "name": "stdout",
     "output_type": "stream",
     "text": [
      "it is not a lack of  love, but a  lack o\n",
      "['u7uuuruuwuwu\\n ', '\\n7muu\\nuuwuuuuuouuuuu\\nuuuuuo\\nbuufuft,s\\nuuufuuisouu. ', 'o7muu”uuwfuuuuuuuuwurusvuuusuuuufu\\nusuuuwuuiuu\\n\\nw\\n\\nuu\\nr\\n\\nusuu\\nreu\\noufuuususu\\n\\n\\nou\\nuur\\nu\\n\\n\\nshwusufuwusuuusu,u,\\nh\\nw\\nuuuuuuu\\ns\\nouos\\nuff\\nuuotsuru\\nub\\nsiwousuusfuhwuusuu\\nuuusub\\nueuuofufy\\nuuuu\\n\\n)f\\nuuufub\\nwuuut\\nuuusuuumsuuuuuuu\\nuuuuttt\\nsuoi ', 'k7ouuuiisouwf ', 's7muu\\nuuuuuuuu\\ntuuuwuo\\nuauuo,uu\\n\\no\\nuoussuu\\nfs.uuuu\\nu\\nouuu\\nuuu\\nuusw\\nu\\nuuuuuu\\nbusuuu\\nuu ']\n",
      "\n",
      "recurrent neural network (rnn)is a type \n",
      "['u\\nb\\nu\\nuuuwowumuuu\\n\\nuuu\\nufuautuuuuu\\nuuituff\\n,uusau ', '\\n\\nuu\\nuruuuuuu\\nau\\nuo\\n\\n,suufuuuouuf\\n\\numue\\n\\nuuuufuu\\nbuu,uu\\nuufuuo”i\\nusos\\nuu\\n\\nu\\nuuu\\no\\n\\nusouuuuumss\\nmuu\\niuuu\\nsiuu\\nfouw\\n\\n\\nuuitruuuuusouuufut\\nfuuiuu\\n\\n\\nuu\\nusunwkuuusutu\\nswuoiuwuuisuuuuiu\\nu?u\\nuususu ', 'f\\nurs ', 'w\\n\\nuf\\n\\n\\nuwuoi\\nuouuuuufb\\nwu\\nutuuueuuuu ', 's\\n\\ntu\\nutuubuub\\nusbu,uuuuu\\nfuuwuius\\nuoou,smuuuyu\\nuou\\nuuuuufuiuuuosousuuuwmuf\\nuiute?u\\nwuuu\\n\\nuus\\no\\ni\\nuuu\\n\\nuumouuus\\nuuuus\\nouuuutsuuuw\\nuoo\\nsuuwtuuiu\\nuu\\nuu\\nsu\\nufu\\nsowuuuuousuuuuusuuuuuubuusuifh,\\nuuu\\nrurus\\nuuuuuuufwfsuuufuf\\nus-iui\\nuuafusosip\\nuuuuwtmu?\\nafr\\nsuuwuutsuusouru\\n\\nmf\\nauuuu\\nu\\nruuuuwuu ']\n",
      "\n",
      "machine learning is the science of getti\n",
      "['sfuiuhur\\nu\\nuu\\nuu ', 'wfukr”s\\nuuuu\\nuoiu\\nsussu\\nuu ', 'rfu ', 'ifur\\nouu\\nuuhuu\\nthuu\\nouuu ', '\\nfuumuuyuuuou\\niuueuutu\\n\\nuuorurouuuwsuuu\\n\\nuuuuuwu”tifwuuuuustw\\nuuuuuso\\nquouuuussss\\nuu\\n\\ndsusssuiuuuu\\nouuuuu\\nruruouu.\\noswusu\\nuuwuuu,au\\nosuru\\nsss\\nfursu,suuuu ']\n",
      "\n",
      "deep learning is subset of machine learn\n",
      "['wuumuuusukf\\n\\n\\nuksusususwfuuuu,buus\\n\\nou\\nuiuf\\nuuo,suuwououuuuuuu ', 'suutus\\n\\nuuuuusuuui\\nsufu\\nuuoiu,f\\nuu\\nsetsra ', 'uuutouu\\n\\nsuuu\\nuiu\\nsouuuusuuswuut\\ntuoufuusuuuufhb\\n\\nfuou\\nuhuso\\nkuuuu\\nf\\nbtuu\\nuo\\nuw\\nosu\\nuuuwwwfuruu\\n-utosuu\\nuu ', 'muumuouuuwusu“\\nuu\\ntis\\nsuuuu”\\nfuuu\\nfuskuusurforouu\\nuufwtuaswsfwsosfuu ', ' uutuou\\numut\\nfuuou\\nu\\nuuuusoutwuuuuefsouuusuu\\nfuuursurqussuuus\\n\\nut\\nu\\nu9oiruuuuu ']\n",
      "\n",
      "the goal of ai is to  make a  compter li\n",
      "['rihsuuuttuiouuou\\nuuu\\n ', '.\\na\\n\\nuuu,fsuyu\\nsofu\\nfwuuufyuuu ', 'uihuuuusb\\n\\nftueoiuuus\\nukuuuuuuuuu\\nuu\\nuuuwrukuoo\\nuuu\\nuuo\\nuui\\nu\\n\\nuo\\nouuuutusouu\\nuuuuusuuuuuustf\\nuuur\\nsuuowu\\nuuuu,ufuhusuuusr\\nuouufiusu\\nuuwuufuwu\\nfs ', 'i\\nhuuuuauuouvu’uuuuu\\npos\\nuuuuuuuruuuwuuuwuuouuu\\n\\nuuu ', 'suh\\n\\nuufyu\\nsuuuouu\\nuo\\nuuuuuusuwutuuosufuuuuou,\\ns”\\nuuuuusuusuumuusuuuuuu\\nuwwsutusuwtsofcsuuusuustuufuuuulsuoutuuuuusiuus\\nthrfu\\nffsuu\\nuuuisuuuuw\\nfu\\now\\nussfuu\\nuuf\\nu\\n\\nufruuaufou\\ntu\\nuuurou\\nuuiuususmusuuuuusrufo\\nu\\nwuuusnfuuu\\ns\\n\\n\\nu\\nsur\\n,\\nfuuuuos ']\n",
      "\n",
      "statistics are defined as numerical data\n",
      "[' suuuuh ', 'rswuu\\nq ', 'uswuuuauf ', 'fsuuuuu\\nfeu“ususws\\niuuuuu\\nouuuk\\nuu\\nu\\nu\\nussru\\n\\nfqriuu\\nousuuuuusi\\ns\\nuuo\\nuwu\\nuruusuuvuusu\\nuuumf\\nssaou\\nu\\n\\nuuuuso\\nis\\nrs ', 'tsuuuurufnuu\\nuu\\nmusrsuuu\\nuusuof\\nufwuuwsfd\\nuuuuuw ']\n",
      "\n"
     ]
    }
   ],
   "source": [
    "for q in quotes:\n",
    "    seq = q[:40].lower()\n",
    "    print(seq)\n",
    "    print(predict_completions(seq, 5))\n",
    "    print()"
   ]
  },
  {
   "cell_type": "code",
   "execution_count": null,
   "id": "ab7538d7",
   "metadata": {},
   "outputs": [],
   "source": []
  }
 ],
 "metadata": {
  "kernelspec": {
   "display_name": "Python 3 (ipykernel)",
   "language": "python",
   "name": "python3"
  },
  "language_info": {
   "codemirror_mode": {
    "name": "ipython",
    "version": 3
   },
   "file_extension": ".py",
   "mimetype": "text/x-python",
   "name": "python",
   "nbconvert_exporter": "python",
   "pygments_lexer": "ipython3",
   "version": "3.9.7"
  }
 },
 "nbformat": 4,
 "nbformat_minor": 5
}
