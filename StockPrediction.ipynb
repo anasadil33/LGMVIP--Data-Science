{
 "cells": [
  {
   "cell_type": "code",
   "execution_count": 67,
   "id": "947645c4",
   "metadata": {},
   "outputs": [],
   "source": [
    "import pandas_datareader as pdr\n",
    "import pandas as pd\n",
    "import matplotlib.pyplot as plt\n",
    "import numpy as np"
   ]
  },
  {
   "cell_type": "code",
   "execution_count": 68,
   "id": "d075a465",
   "metadata": {},
   "outputs": [
    {
     "name": "stderr",
     "output_type": "stream",
     "text": [
      "C:\\Users\\ANAS\\AppData\\Local\\Programs\\Python\\Python39\\lib\\site-packages\\pandas_datareader\\tiingo.py:234: FutureWarning: In a future version of pandas all arguments of concat except for the argument 'objs' will be keyword-only\n",
      "  return pd.concat(dfs, self._concat_axis)\n"
     ]
    }
   ],
   "source": [
    "df = pdr.get_data_tiingo('SBUX', api_key='e5e1babf9dfd1b5387efeb2cd4d0de25c001376e')"
   ]
  },
  {
   "cell_type": "code",
   "execution_count": 69,
   "id": "ef5ab698",
   "metadata": {},
   "outputs": [],
   "source": [
    "df.to_csv('SBUX.csv')"
   ]
  },
  {
   "cell_type": "code",
   "execution_count": 70,
   "id": "76f77bf9",
   "metadata": {},
   "outputs": [
    {
     "data": {
      "text/html": [
       "<div>\n",
       "<style scoped>\n",
       "    .dataframe tbody tr th:only-of-type {\n",
       "        vertical-align: middle;\n",
       "    }\n",
       "\n",
       "    .dataframe tbody tr th {\n",
       "        vertical-align: top;\n",
       "    }\n",
       "\n",
       "    .dataframe thead th {\n",
       "        text-align: right;\n",
       "    }\n",
       "</style>\n",
       "<table border=\"1\" class=\"dataframe\">\n",
       "  <thead>\n",
       "    <tr style=\"text-align: right;\">\n",
       "      <th></th>\n",
       "      <th></th>\n",
       "      <th>close</th>\n",
       "      <th>high</th>\n",
       "      <th>low</th>\n",
       "      <th>open</th>\n",
       "      <th>volume</th>\n",
       "      <th>adjClose</th>\n",
       "      <th>adjHigh</th>\n",
       "      <th>adjLow</th>\n",
       "      <th>adjOpen</th>\n",
       "      <th>adjVolume</th>\n",
       "      <th>divCash</th>\n",
       "      <th>splitFactor</th>\n",
       "    </tr>\n",
       "    <tr>\n",
       "      <th>symbol</th>\n",
       "      <th>date</th>\n",
       "      <th></th>\n",
       "      <th></th>\n",
       "      <th></th>\n",
       "      <th></th>\n",
       "      <th></th>\n",
       "      <th></th>\n",
       "      <th></th>\n",
       "      <th></th>\n",
       "      <th></th>\n",
       "      <th></th>\n",
       "      <th></th>\n",
       "      <th></th>\n",
       "    </tr>\n",
       "  </thead>\n",
       "  <tbody>\n",
       "    <tr>\n",
       "      <th rowspan=\"5\" valign=\"top\">SBUX</th>\n",
       "      <th>2017-07-24 00:00:00+00:00</th>\n",
       "      <td>58.02</td>\n",
       "      <td>58.25</td>\n",
       "      <td>57.9300</td>\n",
       "      <td>58.000</td>\n",
       "      <td>7411252</td>\n",
       "      <td>52.482015</td>\n",
       "      <td>52.690061</td>\n",
       "      <td>52.400605</td>\n",
       "      <td>52.463924</td>\n",
       "      <td>7411252</td>\n",
       "      <td>0.0</td>\n",
       "      <td>1.0</td>\n",
       "    </tr>\n",
       "    <tr>\n",
       "      <th>2017-07-25 00:00:00+00:00</th>\n",
       "      <td>58.55</td>\n",
       "      <td>58.84</td>\n",
       "      <td>57.9800</td>\n",
       "      <td>58.215</td>\n",
       "      <td>7807274</td>\n",
       "      <td>52.961426</td>\n",
       "      <td>53.223746</td>\n",
       "      <td>52.445833</td>\n",
       "      <td>52.658402</td>\n",
       "      <td>7807274</td>\n",
       "      <td>0.0</td>\n",
       "      <td>1.0</td>\n",
       "    </tr>\n",
       "    <tr>\n",
       "      <th>2017-07-26 00:00:00+00:00</th>\n",
       "      <td>57.94</td>\n",
       "      <td>58.84</td>\n",
       "      <td>57.7847</td>\n",
       "      <td>58.800</td>\n",
       "      <td>8635845</td>\n",
       "      <td>52.409651</td>\n",
       "      <td>53.223746</td>\n",
       "      <td>52.269174</td>\n",
       "      <td>53.187564</td>\n",
       "      <td>8635845</td>\n",
       "      <td>0.0</td>\n",
       "      <td>1.0</td>\n",
       "    </tr>\n",
       "    <tr>\n",
       "      <th>2017-07-27 00:00:00+00:00</th>\n",
       "      <td>59.50</td>\n",
       "      <td>59.66</td>\n",
       "      <td>57.9300</td>\n",
       "      <td>58.250</td>\n",
       "      <td>19868659</td>\n",
       "      <td>53.820749</td>\n",
       "      <td>53.965477</td>\n",
       "      <td>52.400605</td>\n",
       "      <td>52.690061</td>\n",
       "      <td>19868659</td>\n",
       "      <td>0.0</td>\n",
       "      <td>1.0</td>\n",
       "    </tr>\n",
       "    <tr>\n",
       "      <th>2017-07-28 00:00:00+00:00</th>\n",
       "      <td>54.00</td>\n",
       "      <td>55.96</td>\n",
       "      <td>53.4100</td>\n",
       "      <td>55.230</td>\n",
       "      <td>52870500</td>\n",
       "      <td>48.845722</td>\n",
       "      <td>50.618641</td>\n",
       "      <td>48.312037</td>\n",
       "      <td>49.958319</td>\n",
       "      <td>52870500</td>\n",
       "      <td>0.0</td>\n",
       "      <td>1.0</td>\n",
       "    </tr>\n",
       "  </tbody>\n",
       "</table>\n",
       "</div>"
      ],
      "text/plain": [
       "                                  close   high      low    open    volume  \\\n",
       "symbol date                                                                 \n",
       "SBUX   2017-07-24 00:00:00+00:00  58.02  58.25  57.9300  58.000   7411252   \n",
       "       2017-07-25 00:00:00+00:00  58.55  58.84  57.9800  58.215   7807274   \n",
       "       2017-07-26 00:00:00+00:00  57.94  58.84  57.7847  58.800   8635845   \n",
       "       2017-07-27 00:00:00+00:00  59.50  59.66  57.9300  58.250  19868659   \n",
       "       2017-07-28 00:00:00+00:00  54.00  55.96  53.4100  55.230  52870500   \n",
       "\n",
       "                                   adjClose    adjHigh     adjLow    adjOpen  \\\n",
       "symbol date                                                                    \n",
       "SBUX   2017-07-24 00:00:00+00:00  52.482015  52.690061  52.400605  52.463924   \n",
       "       2017-07-25 00:00:00+00:00  52.961426  53.223746  52.445833  52.658402   \n",
       "       2017-07-26 00:00:00+00:00  52.409651  53.223746  52.269174  53.187564   \n",
       "       2017-07-27 00:00:00+00:00  53.820749  53.965477  52.400605  52.690061   \n",
       "       2017-07-28 00:00:00+00:00  48.845722  50.618641  48.312037  49.958319   \n",
       "\n",
       "                                  adjVolume  divCash  splitFactor  \n",
       "symbol date                                                        \n",
       "SBUX   2017-07-24 00:00:00+00:00    7411252      0.0          1.0  \n",
       "       2017-07-25 00:00:00+00:00    7807274      0.0          1.0  \n",
       "       2017-07-26 00:00:00+00:00    8635845      0.0          1.0  \n",
       "       2017-07-27 00:00:00+00:00   19868659      0.0          1.0  \n",
       "       2017-07-28 00:00:00+00:00   52870500      0.0          1.0  "
      ]
     },
     "execution_count": 70,
     "metadata": {},
     "output_type": "execute_result"
    }
   ],
   "source": [
    "df.head()"
   ]
  },
  {
   "cell_type": "code",
   "execution_count": 71,
   "id": "c2dbd383",
   "metadata": {},
   "outputs": [
    {
     "data": {
      "text/html": [
       "<div>\n",
       "<style scoped>\n",
       "    .dataframe tbody tr th:only-of-type {\n",
       "        vertical-align: middle;\n",
       "    }\n",
       "\n",
       "    .dataframe tbody tr th {\n",
       "        vertical-align: top;\n",
       "    }\n",
       "\n",
       "    .dataframe thead th {\n",
       "        text-align: right;\n",
       "    }\n",
       "</style>\n",
       "<table border=\"1\" class=\"dataframe\">\n",
       "  <thead>\n",
       "    <tr style=\"text-align: right;\">\n",
       "      <th></th>\n",
       "      <th></th>\n",
       "      <th>close</th>\n",
       "      <th>high</th>\n",
       "      <th>low</th>\n",
       "      <th>open</th>\n",
       "      <th>volume</th>\n",
       "      <th>adjClose</th>\n",
       "      <th>adjHigh</th>\n",
       "      <th>adjLow</th>\n",
       "      <th>adjOpen</th>\n",
       "      <th>adjVolume</th>\n",
       "      <th>divCash</th>\n",
       "      <th>splitFactor</th>\n",
       "    </tr>\n",
       "    <tr>\n",
       "      <th>symbol</th>\n",
       "      <th>date</th>\n",
       "      <th></th>\n",
       "      <th></th>\n",
       "      <th></th>\n",
       "      <th></th>\n",
       "      <th></th>\n",
       "      <th></th>\n",
       "      <th></th>\n",
       "      <th></th>\n",
       "      <th></th>\n",
       "      <th></th>\n",
       "      <th></th>\n",
       "      <th></th>\n",
       "    </tr>\n",
       "  </thead>\n",
       "  <tbody>\n",
       "    <tr>\n",
       "      <th rowspan=\"5\" valign=\"top\">SBUX</th>\n",
       "      <th>2022-07-18 00:00:00+00:00</th>\n",
       "      <td>80.23</td>\n",
       "      <td>81.665</td>\n",
       "      <td>80.0000</td>\n",
       "      <td>80.03</td>\n",
       "      <td>6768756</td>\n",
       "      <td>80.23</td>\n",
       "      <td>81.665</td>\n",
       "      <td>80.0000</td>\n",
       "      <td>80.03</td>\n",
       "      <td>6768756</td>\n",
       "      <td>0.0</td>\n",
       "      <td>1.0</td>\n",
       "    </tr>\n",
       "    <tr>\n",
       "      <th>2022-07-19 00:00:00+00:00</th>\n",
       "      <td>82.55</td>\n",
       "      <td>82.670</td>\n",
       "      <td>80.9100</td>\n",
       "      <td>81.11</td>\n",
       "      <td>5949201</td>\n",
       "      <td>82.55</td>\n",
       "      <td>82.670</td>\n",
       "      <td>80.9100</td>\n",
       "      <td>81.11</td>\n",
       "      <td>5949201</td>\n",
       "      <td>0.0</td>\n",
       "      <td>1.0</td>\n",
       "    </tr>\n",
       "    <tr>\n",
       "      <th>2022-07-20 00:00:00+00:00</th>\n",
       "      <td>83.27</td>\n",
       "      <td>83.469</td>\n",
       "      <td>81.8865</td>\n",
       "      <td>82.48</td>\n",
       "      <td>6850639</td>\n",
       "      <td>83.27</td>\n",
       "      <td>83.469</td>\n",
       "      <td>81.8865</td>\n",
       "      <td>82.48</td>\n",
       "      <td>6850639</td>\n",
       "      <td>0.0</td>\n",
       "      <td>1.0</td>\n",
       "    </tr>\n",
       "    <tr>\n",
       "      <th>2022-07-21 00:00:00+00:00</th>\n",
       "      <td>83.54</td>\n",
       "      <td>83.610</td>\n",
       "      <td>82.6519</td>\n",
       "      <td>82.95</td>\n",
       "      <td>7695295</td>\n",
       "      <td>83.54</td>\n",
       "      <td>83.610</td>\n",
       "      <td>82.6519</td>\n",
       "      <td>82.95</td>\n",
       "      <td>7695295</td>\n",
       "      <td>0.0</td>\n",
       "      <td>1.0</td>\n",
       "    </tr>\n",
       "    <tr>\n",
       "      <th>2022-07-22 00:00:00+00:00</th>\n",
       "      <td>83.59</td>\n",
       "      <td>84.430</td>\n",
       "      <td>82.8400</td>\n",
       "      <td>84.16</td>\n",
       "      <td>6283617</td>\n",
       "      <td>83.59</td>\n",
       "      <td>84.430</td>\n",
       "      <td>82.8400</td>\n",
       "      <td>84.16</td>\n",
       "      <td>6283617</td>\n",
       "      <td>0.0</td>\n",
       "      <td>1.0</td>\n",
       "    </tr>\n",
       "  </tbody>\n",
       "</table>\n",
       "</div>"
      ],
      "text/plain": [
       "                                  close    high      low   open   volume  \\\n",
       "symbol date                                                                \n",
       "SBUX   2022-07-18 00:00:00+00:00  80.23  81.665  80.0000  80.03  6768756   \n",
       "       2022-07-19 00:00:00+00:00  82.55  82.670  80.9100  81.11  5949201   \n",
       "       2022-07-20 00:00:00+00:00  83.27  83.469  81.8865  82.48  6850639   \n",
       "       2022-07-21 00:00:00+00:00  83.54  83.610  82.6519  82.95  7695295   \n",
       "       2022-07-22 00:00:00+00:00  83.59  84.430  82.8400  84.16  6283617   \n",
       "\n",
       "                                  adjClose  adjHigh   adjLow  adjOpen  \\\n",
       "symbol date                                                             \n",
       "SBUX   2022-07-18 00:00:00+00:00     80.23   81.665  80.0000    80.03   \n",
       "       2022-07-19 00:00:00+00:00     82.55   82.670  80.9100    81.11   \n",
       "       2022-07-20 00:00:00+00:00     83.27   83.469  81.8865    82.48   \n",
       "       2022-07-21 00:00:00+00:00     83.54   83.610  82.6519    82.95   \n",
       "       2022-07-22 00:00:00+00:00     83.59   84.430  82.8400    84.16   \n",
       "\n",
       "                                  adjVolume  divCash  splitFactor  \n",
       "symbol date                                                        \n",
       "SBUX   2022-07-18 00:00:00+00:00    6768756      0.0          1.0  \n",
       "       2022-07-19 00:00:00+00:00    5949201      0.0          1.0  \n",
       "       2022-07-20 00:00:00+00:00    6850639      0.0          1.0  \n",
       "       2022-07-21 00:00:00+00:00    7695295      0.0          1.0  \n",
       "       2022-07-22 00:00:00+00:00    6283617      0.0          1.0  "
      ]
     },
     "execution_count": 71,
     "metadata": {},
     "output_type": "execute_result"
    }
   ],
   "source": [
    "df.tail()"
   ]
  },
  {
   "cell_type": "code",
   "execution_count": 72,
   "id": "422c10d1",
   "metadata": {},
   "outputs": [],
   "source": [
    "df1= df.reset_index()['close']"
   ]
  },
  {
   "cell_type": "code",
   "execution_count": 73,
   "id": "7980f919",
   "metadata": {},
   "outputs": [
    {
     "data": {
      "text/plain": [
       "(1259,)"
      ]
     },
     "execution_count": 73,
     "metadata": {},
     "output_type": "execute_result"
    }
   ],
   "source": [
    "df1.shape"
   ]
  },
  {
   "cell_type": "code",
   "execution_count": 74,
   "id": "9695e29d",
   "metadata": {
    "scrolled": true
   },
   "outputs": [
    {
     "data": {
      "text/plain": [
       "[<matplotlib.lines.Line2D at 0x1eeb7b9d0d0>]"
      ]
     },
     "execution_count": 74,
     "metadata": {},
     "output_type": "execute_result"
    },
    {
     "data": {
      "image/png": "[encoded data removed]",
      "text/plain": [
       "<Figure size 432x288 with 1 Axes>"
      ]
     },
     "metadata": {
      "needs_background": "light"
     },
     "output_type": "display_data"
    }
   ],
   "source": [
    "plt.plot(df1)"
   ]
  },
  {
   "cell_type": "code",
   "execution_count": 75,
   "id": "bc16b3ea",
   "metadata": {},
   "outputs": [
    {
     "data": {
      "text/plain": [
       "0       58.02\n",
       "1       58.55\n",
       "2       57.94\n",
       "3       59.50\n",
       "4       54.00\n",
       "        ...  \n",
       "1254    80.23\n",
       "1255    82.55\n",
       "1256    83.27\n",
       "1257    83.54\n",
       "1258    83.59\n",
       "Name: close, Length: 1259, dtype: float64"
      ]
     },
     "execution_count": 75,
     "metadata": {},
     "output_type": "execute_result"
    }
   ],
   "source": [
    "df1"
   ]
  },
  {
   "cell_type": "code",
   "execution_count": 76,
   "id": "00ad13de",
   "metadata": {},
   "outputs": [],
   "source": [
    "from sklearn.preprocessing import MinMaxScaler\n",
    "scaler = MinMaxScaler(feature_range=(0,1))\n",
    "df1 = scaler.fit_transform(np.array(df1).reshape(-1,1))\n",
    "                      "
   ]
  },
  {
   "cell_type": "code",
   "execution_count": 77,
   "id": "ce132ad0",
   "metadata": {},
   "outputs": [
    {
     "data": {
      "text/plain": [
       "(1259, 1)"
      ]
     },
     "execution_count": 77,
     "metadata": {},
     "output_type": "execute_result"
    }
   ],
   "source": [
    "df1.shape"
   ]
  },
  {
   "cell_type": "code",
   "execution_count": 78,
   "id": "3743145d",
   "metadata": {},
   "outputs": [
    {
     "data": {
      "text/plain": [
       "array([[0.12229102],\n",
       "       [0.12912797],\n",
       "       [0.12125903],\n",
       "       ...,\n",
       "       [0.44801342],\n",
       "       [0.45149639],\n",
       "       [0.45214138]])"
      ]
     },
     "execution_count": 78,
     "metadata": {},
     "output_type": "execute_result"
    }
   ],
   "source": [
    "df1"
   ]
  },
  {
   "cell_type": "code",
   "execution_count": 79,
   "id": "09a02951",
   "metadata": {},
   "outputs": [],
   "source": [
    "training_size=int(len(df1)*0.55)\n",
    "test_size=len(df1)-training_size\n",
    "train_data,test_data=df1[0:training_size,:],df1[training_size:len(df1),:1]"
   ]
  },
  {
   "cell_type": "code",
   "execution_count": 80,
   "id": "405412f3",
   "metadata": {},
   "outputs": [
    {
     "data": {
      "text/plain": [
       "(567, 692)"
      ]
     },
     "execution_count": 80,
     "metadata": {},
     "output_type": "execute_result"
    }
   ],
   "source": [
    "test_size,training_size"
   ]
  },
  {
   "cell_type": "code",
   "execution_count": 87,
   "id": "980afdba",
   "metadata": {},
   "outputs": [],
   "source": [
    "\n",
    "def create_dataset(dataset, time_step=100):\n",
    "        \n",
    "        X, Y = [],[]\n",
    "        for i in range(len(dataset)-time_step - 1):\n",
    "            a = dataset[i:(i+time_step),0]\n",
    "            X.append(a)\n",
    "            Y.append(dataset[i+ time_step,0])\n",
    "        return np.array(X),np.array(Y)   "
   ]
  },
  {
   "cell_type": "code",
   "execution_count": 88,
   "id": "02c6fd73",
   "metadata": {},
   "outputs": [],
   "source": [
    "\n",
    "X_train, Y_train = create_dataset(train_data, time_step)\n",
    "X_test, Y_test = create_dataset(test_data, time_step)"
   ]
  },
  {
   "cell_type": "code",
   "execution_count": 62,
   "id": "4f10939f",
   "metadata": {},
   "outputs": [
    {
     "data": {
      "text/plain": [
       "100"
      ]
     },
     "execution_count": 62,
     "metadata": {},
     "output_type": "execute_result"
    }
   ],
   "source": [
    "time_step\n"
   ]
  },
  {
   "cell_type": "code",
   "execution_count": 93,
   "id": "3691ff3f",
   "metadata": {},
   "outputs": [
    {
     "name": "stdout",
     "output_type": "stream",
     "text": [
      "(591, 100)\n",
      "(591,)\n",
      "(466,)\n"
     ]
    },
    {
     "data": {
      "text/plain": [
       "(None, None, None)"
      ]
     },
     "execution_count": 93,
     "metadata": {},
     "output_type": "execute_result"
    }
   ],
   "source": [
    "print(X_train.shape), print(Y_train.shape), print(Y_test.shape)"
   ]
  },
  {
   "cell_type": "code",
   "execution_count": 96,
   "id": "de110c71",
   "metadata": {},
   "outputs": [],
   "source": [
    "X_train =X_train.reshape(X_train.shape[0],X_train.shape[1] , 1)\n",
    "X_test = X_test.reshape(X_test.shape[0],X_test.shape[1] , 1)"
   ]
  },
  {
   "cell_type": "code",
   "execution_count": 114,
   "id": "c2484417",
   "metadata": {},
   "outputs": [],
   "source": [
    "from tensorflow.keras.models import Sequential \n",
    "from tensorflow.keras.layers import Dense\n",
    "from tensorflow.keras.layers import LSTM"
   ]
  },
  {
   "cell_type": "code",
   "execution_count": 117,
   "id": "3b29a8a8",
   "metadata": {},
   "outputs": [],
   "source": [
    "model=Sequential()\n",
    "model.add(LSTM(50,return_sequences=True,input_shape=(100,1)))\n",
    "model.add(LSTM(50,return_sequences=True))\n",
    "model.add(LSTM(50))\n",
    "model.add(Dense(1))\n",
    "model.compile(loss='mean_squared_error',optimizer='adam')"
   ]
  },
  {
   "cell_type": "code",
   "execution_count": 118,
   "id": "50342433",
   "metadata": {
    "scrolled": true
   },
   "outputs": [
    {
     "name": "stdout",
     "output_type": "stream",
     "text": [
      "Model: \"sequential_4\"\n",
      "_________________________________________________________________\n",
      " Layer (type)                Output Shape              Param #   \n",
      "=================================================================\n",
      " lstm (LSTM)                 (None, 100, 50)           10400     \n",
      "                                                                 \n",
      " lstm_1 (LSTM)               (None, 100, 50)           20200     \n",
      "                                                                 \n",
      " lstm_2 (LSTM)               (None, 50)                20200     \n",
      "                                                                 \n",
      " dense (Dense)               (None, 1)                 51        \n",
      "                                                                 \n",
      "=================================================================\n",
      "Total params: 50,851\n",
      "Trainable params: 50,851\n",
      "Non-trainable params: 0\n",
      "_________________________________________________________________\n"
     ]
    }
   ],
   "source": [
    "model.summary()"
   ]
  },
  {
   "cell_type": "code",
   "execution_count": 121,
   "id": "b94796b9",
   "metadata": {},
   "outputs": [
    {
     "name": "stdout",
     "output_type": "stream",
     "text": [
      "Epoch 1/100\n",
      "10/10 [==============================] - 20s 756ms/step - loss: 0.0408 - val_loss: 0.0197\n",
      "Epoch 2/100\n",
      "10/10 [==============================] - 4s 422ms/step - loss: 0.0088 - val_loss: 0.0160\n",
      "Epoch 3/100\n",
      "10/10 [==============================] - 4s 401ms/step - loss: 0.0051 - val_loss: 0.0154\n",
      "Epoch 4/100\n",
      "10/10 [==============================] - 4s 449ms/step - loss: 0.0030 - val_loss: 0.0031\n",
      "Epoch 5/100\n",
      "10/10 [==============================] - 4s 436ms/step - loss: 0.0025 - val_loss: 0.0037\n",
      "Epoch 6/100\n",
      "10/10 [==============================] - 4s 445ms/step - loss: 0.0024 - val_loss: 0.0056\n",
      "Epoch 7/100\n",
      "10/10 [==============================] - 4s 433ms/step - loss: 0.0024 - val_loss: 0.0030\n",
      "Epoch 8/100\n",
      "10/10 [==============================] - 4s 416ms/step - loss: 0.0022 - val_loss: 0.0046\n",
      "Epoch 9/100\n",
      "10/10 [==============================] - 4s 417ms/step - loss: 0.0021 - val_loss: 0.0042\n",
      "Epoch 10/100\n",
      "10/10 [==============================] - 4s 369ms/step - loss: 0.0019 - val_loss: 0.0041\n",
      "Epoch 11/100\n",
      "10/10 [==============================] - 3s 355ms/step - loss: 0.0019 - val_loss: 0.0023\n",
      "Epoch 12/100\n",
      "10/10 [==============================] - 3s 341ms/step - loss: 0.0019 - val_loss: 0.0024\n",
      "Epoch 13/100\n",
      "10/10 [==============================] - 3s 340ms/step - loss: 0.0018 - val_loss: 0.0030\n",
      "Epoch 14/100\n",
      "10/10 [==============================] - 3s 356ms/step - loss: 0.0016 - val_loss: 0.0039\n",
      "Epoch 15/100\n",
      "10/10 [==============================] - 3s 345ms/step - loss: 0.0014 - val_loss: 0.0033\n",
      "Epoch 16/100\n",
      "10/10 [==============================] - 3s 342ms/step - loss: 0.0014 - val_loss: 0.0023\n",
      "Epoch 17/100\n",
      "10/10 [==============================] - 3s 355ms/step - loss: 0.0016 - val_loss: 0.0021\n",
      "Epoch 18/100\n",
      "10/10 [==============================] - 3s 345ms/step - loss: 0.0017 - val_loss: 0.0022\n",
      "Epoch 19/100\n",
      "10/10 [==============================] - 3s 343ms/step - loss: 0.0015 - val_loss: 0.0031\n",
      "Epoch 20/100\n",
      "10/10 [==============================] - 3s 344ms/step - loss: 0.0013 - val_loss: 0.0030\n",
      "Epoch 21/100\n",
      "10/10 [==============================] - 3s 340ms/step - loss: 0.0013 - val_loss: 0.0029\n",
      "Epoch 22/100\n",
      "10/10 [==============================] - 3s 340ms/step - loss: 0.0013 - val_loss: 0.0057\n",
      "Epoch 23/100\n",
      "10/10 [==============================] - 3s 354ms/step - loss: 0.0012 - val_loss: 0.0036\n",
      "Epoch 24/100\n",
      "10/10 [==============================] - 3s 344ms/step - loss: 0.0012 - val_loss: 0.0033\n",
      "Epoch 25/100\n",
      "10/10 [==============================] - 3s 341ms/step - loss: 0.0012 - val_loss: 0.0021\n",
      "Epoch 26/100\n",
      "10/10 [==============================] - 3s 345ms/step - loss: 0.0013 - val_loss: 0.0021\n",
      "Epoch 27/100\n",
      "10/10 [==============================] - 3s 340ms/step - loss: 0.0013 - val_loss: 0.0020\n",
      "Epoch 28/100\n",
      "10/10 [==============================] - 3s 343ms/step - loss: 0.0012 - val_loss: 0.0023\n",
      "Epoch 29/100\n",
      "10/10 [==============================] - 3s 344ms/step - loss: 0.0011 - val_loss: 0.0023\n",
      "Epoch 30/100\n",
      "10/10 [==============================] - 4s 422ms/step - loss: 0.0011 - val_loss: 0.0022\n",
      "Epoch 31/100\n",
      "10/10 [==============================] - 4s 402ms/step - loss: 0.0011 - val_loss: 0.0021\n",
      "Epoch 32/100\n",
      "10/10 [==============================] - 4s 429ms/step - loss: 0.0011 - val_loss: 0.0023\n",
      "Epoch 33/100\n",
      "10/10 [==============================] - 4s 413ms/step - loss: 0.0011 - val_loss: 0.0042\n",
      "Epoch 34/100\n",
      "10/10 [==============================] - 4s 419ms/step - loss: 0.0010 - val_loss: 0.0028\n",
      "Epoch 35/100\n",
      "10/10 [==============================] - 4s 438ms/step - loss: 0.0010 - val_loss: 0.0028\n",
      "Epoch 36/100\n",
      "10/10 [==============================] - 4s 415ms/step - loss: 0.0011 - val_loss: 0.0019\n",
      "Epoch 37/100\n",
      "10/10 [==============================] - 4s 388ms/step - loss: 0.0012 - val_loss: 0.0025\n",
      "Epoch 38/100\n",
      "10/10 [==============================] - 3s 351ms/step - loss: 0.0011 - val_loss: 0.0017\n",
      "Epoch 39/100\n",
      "10/10 [==============================] - 4s 356ms/step - loss: 0.0010 - val_loss: 0.0025\n",
      "Epoch 40/100\n",
      "10/10 [==============================] - 3s 351ms/step - loss: 0.0011 - val_loss: 0.0055\n",
      "Epoch 41/100\n",
      "10/10 [==============================] - 4s 359ms/step - loss: 0.0012 - val_loss: 0.0059\n",
      "Epoch 42/100\n",
      "10/10 [==============================] - 3s 350ms/step - loss: 0.0011 - val_loss: 0.0017\n",
      "Epoch 43/100\n",
      "10/10 [==============================] - 3s 350ms/step - loss: 9.9355e-04 - val_loss: 0.0016\n",
      "Epoch 44/100\n",
      "10/10 [==============================] - 3s 352ms/step - loss: 9.5563e-04 - val_loss: 0.0016\n",
      "Epoch 45/100\n",
      "10/10 [==============================] - 4s 360ms/step - loss: 9.4172e-04 - val_loss: 0.0016\n",
      "Epoch 46/100\n",
      "10/10 [==============================] - 3s 351ms/step - loss: 0.0010 - val_loss: 0.0025\n",
      "Epoch 47/100\n",
      "10/10 [==============================] - 3s 353ms/step - loss: 9.6980e-04 - val_loss: 0.0043\n",
      "Epoch 48/100\n",
      "10/10 [==============================] - 4s 359ms/step - loss: 0.0010 - val_loss: 0.0034\n",
      "Epoch 49/100\n",
      "10/10 [==============================] - 4s 391ms/step - loss: 0.0010 - val_loss: 0.0028\n",
      "Epoch 50/100\n",
      "10/10 [==============================] - 3s 357ms/step - loss: 9.7105e-04 - val_loss: 0.0017\n",
      "Epoch 51/100\n",
      "10/10 [==============================] - 3s 357ms/step - loss: 0.0010 - val_loss: 0.0016\n",
      "Epoch 52/100\n",
      "10/10 [==============================] - 3s 350ms/step - loss: 9.2695e-04 - val_loss: 0.0016\n",
      "Epoch 53/100\n",
      "10/10 [==============================] - 3s 356ms/step - loss: 8.7282e-04 - val_loss: 0.0019\n",
      "Epoch 54/100\n",
      "10/10 [==============================] - 4s 371ms/step - loss: 8.4644e-04 - val_loss: 0.0017\n",
      "Epoch 55/100\n",
      "10/10 [==============================] - 4s 361ms/step - loss: 8.5329e-04 - val_loss: 0.0016\n",
      "Epoch 56/100\n",
      "10/10 [==============================] - 3s 354ms/step - loss: 8.5889e-04 - val_loss: 0.0022\n",
      "Epoch 57/100\n",
      "10/10 [==============================] - 3s 352ms/step - loss: 8.2014e-04 - val_loss: 0.0018\n",
      "Epoch 58/100\n",
      "10/10 [==============================] - 3s 349ms/step - loss: 8.2475e-04 - val_loss: 0.0021\n",
      "Epoch 59/100\n",
      "10/10 [==============================] - 3s 349ms/step - loss: 9.6057e-04 - val_loss: 0.0024\n",
      "Epoch 60/100\n",
      "10/10 [==============================] - 3s 352ms/step - loss: 8.2475e-04 - val_loss: 0.0017\n",
      "Epoch 61/100\n",
      "10/10 [==============================] - 3s 351ms/step - loss: 8.5988e-04 - val_loss: 0.0015\n",
      "Epoch 62/100\n",
      "10/10 [==============================] - 3s 353ms/step - loss: 9.1368e-04 - val_loss: 0.0017\n",
      "Epoch 63/100\n",
      "10/10 [==============================] - 3s 346ms/step - loss: 8.6736e-04 - val_loss: 0.0014\n",
      "Epoch 64/100\n",
      "10/10 [==============================] - 3s 349ms/step - loss: 7.7612e-04 - val_loss: 0.0013\n",
      "Epoch 65/100\n",
      "10/10 [==============================] - 3s 351ms/step - loss: 7.6880e-04 - val_loss: 0.0014\n",
      "Epoch 66/100\n",
      "10/10 [==============================] - 3s 350ms/step - loss: 8.3237e-04 - val_loss: 0.0014\n",
      "Epoch 67/100\n",
      "10/10 [==============================] - 3s 351ms/step - loss: 7.6323e-04 - val_loss: 0.0029\n",
      "Epoch 68/100\n",
      "10/10 [==============================] - 3s 345ms/step - loss: 9.0417e-04 - val_loss: 0.0013\n",
      "Epoch 69/100\n",
      "10/10 [==============================] - 3s 345ms/step - loss: 8.4727e-04 - val_loss: 0.0026\n",
      "Epoch 70/100\n",
      "10/10 [==============================] - 3s 348ms/step - loss: 8.2770e-04 - val_loss: 0.0014\n",
      "Epoch 71/100\n",
      "10/10 [==============================] - 3s 349ms/step - loss: 7.6831e-04 - val_loss: 0.0014\n",
      "Epoch 72/100\n",
      "10/10 [==============================] - 3s 348ms/step - loss: 8.2950e-04 - val_loss: 0.0012\n",
      "Epoch 73/100\n",
      "10/10 [==============================] - 3s 345ms/step - loss: 7.2051e-04 - val_loss: 0.0014\n",
      "Epoch 74/100\n",
      "10/10 [==============================] - 3s 351ms/step - loss: 7.2185e-04 - val_loss: 0.0012\n",
      "Epoch 75/100\n",
      "10/10 [==============================] - 3s 349ms/step - loss: 6.9602e-04 - val_loss: 0.0013\n",
      "Epoch 76/100\n",
      "10/10 [==============================] - 3s 347ms/step - loss: 6.9544e-04 - val_loss: 0.0012\n",
      "Epoch 77/100\n",
      "10/10 [==============================] - 3s 351ms/step - loss: 7.1156e-04 - val_loss: 0.0014\n",
      "Epoch 78/100\n",
      "10/10 [==============================] - 4s 360ms/step - loss: 6.9508e-04 - val_loss: 0.0021\n",
      "Epoch 79/100\n",
      "10/10 [==============================] - 4s 362ms/step - loss: 7.3166e-04 - val_loss: 0.0011\n",
      "Epoch 80/100\n",
      "10/10 [==============================] - 3s 343ms/step - loss: 6.6680e-04 - val_loss: 0.0015\n",
      "Epoch 81/100\n",
      "10/10 [==============================] - 3s 350ms/step - loss: 7.5824e-04 - val_loss: 0.0011\n",
      "Epoch 82/100\n",
      "10/10 [==============================] - 3s 345ms/step - loss: 6.8104e-04 - val_loss: 0.0016\n",
      "Epoch 83/100\n",
      "10/10 [==============================] - 3s 351ms/step - loss: 6.4868e-04 - val_loss: 0.0013\n",
      "Epoch 84/100\n",
      "10/10 [==============================] - 3s 344ms/step - loss: 6.4750e-04 - val_loss: 0.0028\n",
      "Epoch 85/100\n",
      "10/10 [==============================] - 3s 347ms/step - loss: 7.2247e-04 - val_loss: 0.0011\n",
      "Epoch 86/100\n",
      "10/10 [==============================] - 3s 351ms/step - loss: 7.2635e-04 - val_loss: 0.0014\n",
      "Epoch 87/100\n",
      "10/10 [==============================] - 3s 349ms/step - loss: 7.2571e-04 - val_loss: 0.0011\n",
      "Epoch 88/100\n",
      "10/10 [==============================] - 3s 347ms/step - loss: 6.7915e-04 - val_loss: 0.0018\n",
      "Epoch 89/100\n",
      "10/10 [==============================] - 3s 341ms/step - loss: 6.4765e-04 - val_loss: 0.0011\n",
      "Epoch 90/100\n",
      "10/10 [==============================] - 3s 347ms/step - loss: 6.1003e-04 - val_loss: 0.0010\n",
      "Epoch 91/100\n",
      "10/10 [==============================] - 3s 347ms/step - loss: 6.0205e-04 - val_loss: 0.0011\n",
      "Epoch 92/100\n",
      "10/10 [==============================] - 3s 347ms/step - loss: 6.2054e-04 - val_loss: 0.0012\n",
      "Epoch 93/100\n",
      "10/10 [==============================] - 3s 353ms/step - loss: 6.2691e-04 - val_loss: 9.7948e-04\n",
      "Epoch 94/100\n",
      "10/10 [==============================] - 3s 353ms/step - loss: 5.8012e-04 - val_loss: 9.2590e-04\n",
      "Epoch 95/100\n",
      "10/10 [==============================] - 3s 350ms/step - loss: 5.6554e-04 - val_loss: 0.0019\n",
      "Epoch 96/100\n",
      "10/10 [==============================] - 3s 350ms/step - loss: 6.2973e-04 - val_loss: 9.2965e-04\n",
      "Epoch 97/100\n",
      "10/10 [==============================] - 3s 351ms/step - loss: 5.8029e-04 - val_loss: 9.6305e-04\n",
      "Epoch 98/100\n",
      "10/10 [==============================] - 3s 341ms/step - loss: 5.8757e-04 - val_loss: 9.2154e-04\n",
      "Epoch 99/100\n",
      "10/10 [==============================] - 3s 348ms/step - loss: 5.4687e-04 - val_loss: 9.7985e-04\n",
      "Epoch 100/100\n",
      "10/10 [==============================] - 3s 344ms/step - loss: 5.3717e-04 - val_loss: 0.0010\n"
     ]
    },
    {
     "data": {
      "text/plain": [
       "<keras.callbacks.History at 0x1eec14504f0>"
      ]
     },
     "execution_count": 121,
     "metadata": {},
     "output_type": "execute_result"
    }
   ],
   "source": [
    "model.fit(X_train,Y_train,validation_data=(X_test,Y_test),epochs=100,batch_size=64,verbose=1)"
   ]
  },
  {
   "cell_type": "code",
   "execution_count": 122,
   "id": "c97ebb21",
   "metadata": {},
   "outputs": [
    {
     "name": "stdout",
     "output_type": "stream",
     "text": [
      "19/19 [==============================] - 4s 72ms/step\n",
      "15/15 [==============================] - 1s 69ms/step\n"
     ]
    }
   ],
   "source": [
    "train_predict= model.predict(X_train)\n",
    "test_predict = model.predict(X_test)"
   ]
  },
  {
   "cell_type": "code",
   "execution_count": 125,
   "id": "81219830",
   "metadata": {},
   "outputs": [],
   "source": [
    "train_predict=scaler.inverse_transform(train_predict)\n",
    "test_predict=scaler.inverse_transform(test_predict)"
   ]
  },
  {
   "cell_type": "code",
   "execution_count": 126,
   "id": "2c477ac9",
   "metadata": {},
   "outputs": [
    {
     "data": {
      "text/plain": [
       "5615.463741278359"
      ]
     },
     "execution_count": 126,
     "metadata": {},
     "output_type": "execute_result"
    }
   ],
   "source": [
    "import math \n",
    "from sklearn.metrics import mean_squared_error\n",
    "math.sqrt(mean_squared_error(Y_train,train_predict))"
   ]
  },
  {
   "cell_type": "code",
   "execution_count": 128,
   "id": "8e002b8c",
   "metadata": {},
   "outputs": [
    {
     "data": {
      "text/plain": [
       "100.47025075730382"
      ]
     },
     "execution_count": 128,
     "metadata": {},
     "output_type": "execute_result"
    }
   ],
   "source": [
    "math.sqrt(mean_squared_error(Y_test,test_predict))"
   ]
  },
  {
   "cell_type": "code",
   "execution_count": 137,
   "id": "eb85aa32",
   "metadata": {
    "scrolled": true
   },
   "outputs": [
    {
     "data": {
      "image/png": "[encoded data removed]",
      "text/plain": [
       "<Figure size 432x288 with 1 Axes>"
      ]
     },
     "metadata": {
      "needs_background": "light"
     },
     "output_type": "display_data"
    }
   ],
   "source": [
    "look_back=100\n",
    "trainPredictPlot = numpy.empty_like(df1)\n",
    "trainPredictPlot[:, :] = np.nan\n",
    "trainPredictPlot[look_back:len(train_predict)+look_back, :] = train_predict\n",
    "\n",
    "testPredictPlot = numpy.empty_like(df1)\n",
    "testPredictPlot[:, :] = numpy.nan\n",
    "testPredictPlot[len(train_predict)+(look_back*2)+1:len(df1)-1, :] = test_predict\n",
    "\n",
    "plt.plot(scaler.inverse_transform(df1))\n",
    "plt.plot(trainPredictPlot)\n",
    "plt.plot(testPredictPlot)\n",
    "plt.show()"
   ]
  },
  {
   "cell_type": "code",
   "execution_count": 138,
   "id": "487ae20d",
   "metadata": {},
   "outputs": [
    {
     "data": {
      "text/plain": [
       "567"
      ]
     },
     "execution_count": 138,
     "metadata": {},
     "output_type": "execute_result"
    }
   ],
   "source": [
    "len(test_data)\n"
   ]
  },
  {
   "cell_type": "code",
   "execution_count": 139,
   "id": "7727fd1f",
   "metadata": {},
   "outputs": [
    {
     "data": {
      "text/plain": [
       "(1, 226)"
      ]
     },
     "execution_count": 139,
     "metadata": {},
     "output_type": "execute_result"
    }
   ],
   "source": [
    "x_input=test_data[341:].reshape(1,-1)\n",
    "x_input.shape"
   ]
  },
  {
   "cell_type": "code",
   "execution_count": 140,
   "id": "800e68e3",
   "metadata": {},
   "outputs": [],
   "source": [
    "temp_input=list(x_input)\n",
    "temp_input=temp_input[0].tolist()"
   ]
  },
  {
   "cell_type": "code",
   "execution_count": 143,
   "id": "e7712e1f",
   "metadata": {},
   "outputs": [
    {
     "name": "stdout",
     "output_type": "stream",
     "text": [
      "0 day input [0.88944788 0.88893189 0.8878999  0.88557792 0.86751806 0.89654283\n",
      " 0.90621775 0.91331269 0.91124871 0.90712074 0.85268318 0.85307018\n",
      " 0.83681631 0.81630547 0.82146543 0.83243034 0.84623323 0.84584623\n",
      " 0.84029928 0.81488648 0.82082043 0.79682663 0.83049536 0.81166151\n",
      " 0.80379257 0.81398349 0.82133643 0.80856553 0.80495356 0.80572755\n",
      " 0.80263158 0.81695046 0.81153251 0.83630031 0.8378483  0.84262126\n",
      " 0.8501032  0.85152219 0.85358617 0.85629515 0.8381063  0.83410733\n",
      " 0.74213106 0.79024768 0.81153251 0.82649639 0.82069143 0.88196594\n",
      " 0.85939112 0.84610423 0.83475232 0.81140351 0.81501548 0.81695046\n",
      " 0.82159443 0.8253354  0.83023736 0.80288958 0.81153251 0.83900929\n",
      " 0.84404025 0.80134159 0.80224458 0.78818369 0.7755418  0.81114551\n",
      " 0.80882353 0.83617131 0.87358101 0.87345201 0.86184211 0.87964396\n",
      " 0.86455108 0.85358617 0.85319917 0.83913829 0.7751548  0.76818885\n",
      " 0.79760062 0.81527348 0.82340041 0.84726522 0.86468008 0.875129\n",
      " 0.87332301 0.88273994 0.87899897 0.84752322 0.79850361 0.80753354\n",
      " 0.76148091 0.74161507 0.71594427 0.71375129 0.69478844 0.66537668\n",
      " 0.63454592 0.62345201 0.60861713 0.61622807 0.63931889 0.625258\n",
      " 0.60681115 0.60345717 0.62783798 0.64215686 0.64783282 0.63454592\n",
      " 0.61145511 0.59932921 0.60178019 0.59829721 0.62680599 0.60332817\n",
      " 0.58294634 0.58191434 0.59300826 0.60165119 0.57417441 0.57791538\n",
      " 0.5749484  0.53031476 0.54785862 0.56811146 0.55792054 0.53663571\n",
      " 0.57056244 0.55456656 0.53521672 0.46336429 0.45743034 0.50386997\n",
      " 0.49819401 0.44104747 0.39667183 0.44607843 0.50141899 0.50464396\n",
      " 0.52966976 0.49432405 0.50761094 0.48606811 0.49767802 0.50193498\n",
      " 0.51393189 0.55069659 0.54811662 0.54734262 0.55405057 0.51019092\n",
      " 0.45897833 0.44917441 0.44607843 0.4254386  0.41460268 0.40312178\n",
      " 0.41769866 0.3993808  0.40067079 0.42156863 0.40802374 0.39241486\n",
      " 0.37899897 0.37977296 0.3494582  0.3379773  0.36171311 0.33668731\n",
      " 0.34610423 0.33268834 0.42698658 0.37332301 0.36093911 0.32185243\n",
      " 0.30082559 0.27760578 0.2755418  0.34907121 0.30804954 0.3248194\n",
      " 0.29334365 0.30172859 0.32056244 0.32094943 0.3119195  0.30882353\n",
      " 0.33475232 0.36339009 0.38648091 0.35784314 0.39834881 0.39357585\n",
      " 0.39267286 0.39899381 0.38609391 0.39176987 0.3499742  0.30727554\n",
      " 0.30663055 0.33088235 0.28908669 0.30095459 0.31501548 0.31940144\n",
      " 0.34391125 0.38144995 0.37590299 0.35861713 0.35977812 0.35926213\n",
      " 0.39628483 0.3996388  0.39112487 0.39602683 0.39654283 0.37874097\n",
      " 0.37693498 0.37899897 0.38261094 0.40092879 0.40879773 0.43872549\n",
      " 0.44801342 0.45149639 0.45214138]\n"
     ]
    },
    {
     "ename": "ValueError",
     "evalue": "cannot reshape array of size 225 into shape (1,100,1)",
     "output_type": "error",
     "traceback": [
      "\u001b[1;31m---------------------------------------------------------------------------\u001b[0m",
      "\u001b[1;31mValueError\u001b[0m                                Traceback (most recent call last)",
      "Input \u001b[1;32mIn [143]\u001b[0m, in \u001b[0;36m<cell line: 6>\u001b[1;34m()\u001b[0m\n\u001b[0;32m     11\u001b[0m \u001b[38;5;28mprint\u001b[39m(\u001b[38;5;124m\"\u001b[39m\u001b[38;5;132;01m{}\u001b[39;00m\u001b[38;5;124m day input \u001b[39m\u001b[38;5;132;01m{}\u001b[39;00m\u001b[38;5;124m\"\u001b[39m\u001b[38;5;241m.\u001b[39mformat(i,x_input))\n\u001b[0;32m     12\u001b[0m x_input\u001b[38;5;241m=\u001b[39mx_input\u001b[38;5;241m.\u001b[39mreshape(\u001b[38;5;241m1\u001b[39m,\u001b[38;5;241m-\u001b[39m\u001b[38;5;241m1\u001b[39m)\n\u001b[1;32m---> 13\u001b[0m x_input \u001b[38;5;241m=\u001b[39m \u001b[43mx_input\u001b[49m\u001b[38;5;241;43m.\u001b[39;49m\u001b[43mreshape\u001b[49m\u001b[43m(\u001b[49m\u001b[43m(\u001b[49m\u001b[38;5;241;43m1\u001b[39;49m\u001b[43m,\u001b[49m\u001b[43m \u001b[49m\u001b[43mn_steps\u001b[49m\u001b[43m,\u001b[49m\u001b[43m \u001b[49m\u001b[38;5;241;43m1\u001b[39;49m\u001b[43m)\u001b[49m\u001b[43m)\u001b[49m\n\u001b[0;32m     14\u001b[0m \u001b[38;5;66;03m#print(x_input)\u001b[39;00m\n\u001b[0;32m     15\u001b[0m yhat \u001b[38;5;241m=\u001b[39m model\u001b[38;5;241m.\u001b[39mpredict(x_input, verbose\u001b[38;5;241m=\u001b[39m\u001b[38;5;241m0\u001b[39m)\n",
      "\u001b[1;31mValueError\u001b[0m: cannot reshape array of size 225 into shape (1,100,1)"
     ]
    }
   ],
   "source": [
    "from numpy import array\n",
    "\n",
    "lst_output=[]\n",
    "n_steps=100\n",
    "i=0\n",
    "while(i<30):\n",
    "    \n",
    "    if(len(temp_input)>100):\n",
    "        #print(temp_input)\n",
    "        x_input=np.array(temp_input[1:])\n",
    "        print(\"{} day input {}\".format(i,x_input))\n",
    "        x_input=x_input.reshape(1,-1)\n",
    "        x_input = x_input.reshape((1, n_steps, 1))\n",
    "        #print(x_input)\n",
    "        yhat = model.predict(x_input, verbose=0)\n",
    "        print(\"{} day output {}\".format(i,yhat))\n",
    "        temp_input.extend(yhat[0].tolist())\n",
    "        temp_input=temp_input[1:]\n",
    "        #print(temp_input)\n",
    "        lst_output.extend(yhat.tolist())\n",
    "        i=i+1\n",
    "    else:\n",
    "        x_input = x_input.reshape((1, n_steps,1))\n",
    "        yhat = model.predict(x_input, verbose=0)\n",
    "        print(yhat[0])\n",
    "        temp_input.extend(yhat[0].tolist())\n",
    "        print(len(temp_input))\n",
    "        lst_output.extend(yhat.tolist())\n",
    "        i=i+1\n",
    "    \n",
    "\n",
    "print(lst_output)  "
   ]
  },
  {
   "cell_type": "code",
   "execution_count": 144,
   "id": "04564a5c",
   "metadata": {},
   "outputs": [
    {
     "data": {
      "text/plain": [
       "1259"
      ]
     },
     "execution_count": 144,
     "metadata": {},
     "output_type": "execute_result"
    }
   ],
   "source": [
    "len(df1)\n"
   ]
  },
  {
   "cell_type": "code",
   "execution_count": 146,
   "id": "f902e63d",
   "metadata": {},
   "outputs": [],
   "source": [
    "df3=df1.tolist()\n",
    "df3.extend(lst_output)"
   ]
  },
  {
   "cell_type": "code",
   "execution_count": 147,
   "id": "940fa576",
   "metadata": {},
   "outputs": [],
   "source": [
    "day_new=np.arange(1,101)\n",
    "day_pred=np.arange(101,131)"
   ]
  },
  {
   "cell_type": "code",
   "execution_count": 148,
   "id": "61d048a2",
   "metadata": {},
   "outputs": [
    {
     "data": {
      "text/plain": [
       "[<matplotlib.lines.Line2D at 0x1eecb3d44f0>]"
      ]
     },
     "execution_count": 148,
     "metadata": {},
     "output_type": "execute_result"
    },
    {
     "data": {
      "image/png": "[encoded data removed]",
      "text/plain": [
       "<Figure size 432x288 with 1 Axes>"
      ]
     },
     "metadata": {
      "needs_background": "light"
     },
     "output_type": "display_data"
    }
   ],
   "source": [
    "plt.plot((df1[1158:]))\n",
    "plt.plot((lst_output))"
   ]
  },
  {
   "cell_type": "code",
   "execution_count": 149,
   "id": "8721f2dc",
   "metadata": {},
   "outputs": [
    {
     "data": {
      "text/plain": [
       "[<matplotlib.lines.Line2D at 0x1eecb407df0>]"
      ]
     },
     "execution_count": 149,
     "metadata": {},
     "output_type": "execute_result"
    },
    {
     "data": {
      "image/png": "[encoded data removed]",
      "text/plain": [
       "<Figure size 432x288 with 1 Axes>"
      ]
     },
     "metadata": {
      "needs_background": "light"
     },
     "output_type": "display_data"
    }
   ],
   "source": [
    "df3=df1.tolist()\n",
    "df3.extend(lst_output)\n",
    "plt.plot(df3[1200:])"
   ]
  },
  {
   "cell_type": "code",
   "execution_count": 150,
   "id": "ac149745",
   "metadata": {},
   "outputs": [],
   "source": [
    "df3=scaler.inverse_transform(df3).tolist()"
   ]
  },
  {
   "cell_type": "code",
   "execution_count": 151,
   "id": "33e15efd",
   "metadata": {},
   "outputs": [
    {
     "data": {
      "text/plain": [
       "[<matplotlib.lines.Line2D at 0x1eecb47c070>]"
      ]
     },
     "execution_count": 151,
     "metadata": {},
     "output_type": "execute_result"
    },
    {
     "data": {
      "image/png": "[encoded data removed]",
      "text/plain": [
       "<Figure size 432x288 with 1 Axes>"
      ]
     },
     "metadata": {
      "needs_background": "light"
     },
     "output_type": "display_data"
    }
   ],
   "source": [
    "plt.plot(df3)"
   ]
  }
 ],
 "metadata": {
  "kernelspec": {
   "display_name": "Python 3 (ipykernel)",
   "language": "python",
   "name": "python3"
  },
  "language_info": {
   "codemirror_mode": {
    "name": "ipython",
    "version": 3
   },
   "file_extension": ".py",
   "mimetype": "text/x-python",
   "name": "python",
   "nbconvert_exporter": "python",
   "pygments_lexer": "ipython3",
   "version": "3.9.7"
  }
 },
 "nbformat": 4,
 "nbformat_minor": 5
}
